{
 "cells": [
  {
   "cell_type": "markdown",
   "metadata": {},
   "source": [
    "# Plotting the CRPS-Difference of the Climatological Ensemble and the QRF Models and the CRPSS\n",
    "Version 21 December, Selina Kiefer"
   ]
  },
  {
   "cell_type": "markdown",
   "metadata": {},
   "source": [
    "### Input: csv-files\n",
    "continuous timeseries of daily CRPS values for every model in csv-format (including the climatological ensemble), continuous timeseries of ground truth temperature in csv-format\n",
    "### Output: png-files\n",
    "winterwise plots of CRPS values in png-format, winterwise plots of CRPS-difference in png-format as well as winterwise and multi-winter mean bar plots of CRPSS values in png-format"
   ]
  },
  {
   "cell_type": "markdown",
   "metadata": {},
   "source": [
    "#### Set the paths' to the defined functions, the style sheet for plotting and tthe configuration file and set its name"
   ]
  },
  {
   "cell_type": "code",
   "execution_count": null,
   "metadata": {},
   "outputs": [],
   "source": [
    "# Set the path to the defined functions.\n",
    "PATH_defined_functions = './Defined_Functions/'"
   ]
  },
  {
   "cell_type": "code",
   "execution_count": null,
   "metadata": {},
   "outputs": [],
   "source": [
    "# Set the path and name of the style file which should be used for plotting.\n",
    "style_file_for_plotting = './Style_File_Matplotlib.mplstyle'"
   ]
  },
  {
   "cell_type": "code",
   "execution_count": null,
   "metadata": {},
   "outputs": [],
   "source": [
    "# Set the path and name of the configuration file.\n",
    "PATH_configurations = './Configuration_Files/'\n",
    "ifile_configurations = 'Configurations_Plotting_Difference_CRPS_and_CRPSS.yaml'"
   ]
  },
  {
   "cell_type": "markdown",
   "metadata": {},
   "source": [
    "#### Import the necessary python packages and functions\n",
    "Nothing needs to be changed here."
   ]
  },
  {
   "cell_type": "code",
   "execution_count": null,
   "metadata": {},
   "outputs": [],
   "source": [
    "# Import the necessary python packages.\n",
    "import yaml\n",
    "import pandas as pd\n",
    "import numpy as np\n",
    "import matplotlib as mpl\n",
    "import matplotlib.pyplot as plt\n",
    "import matplotlib.dates as mdates\n",
    "import matplotlib.patches as mpatches\n",
    "import mpl_axes_aligner\n",
    "import seaborn as sns\n",
    "from datetime import timedelta"
   ]
  },
  {
   "cell_type": "code",
   "execution_count": null,
   "metadata": {},
   "outputs": [],
   "source": [
    "# Import the necessary defined functions.\n",
    "import sys\n",
    "sys.path.insert(1, PATH_defined_functions)\n",
    "from read_in_csv_data import *\n",
    "from truncate_data_by_date import *"
   ]
  },
  {
   "cell_type": "markdown",
   "metadata": {},
   "source": [
    "#### Read in the style sheet for plotting"
   ]
  },
  {
   "cell_type": "code",
   "execution_count": null,
   "metadata": {},
   "outputs": [],
   "source": [
    "# Load the style sheet to be used by matplotlib for plotting. This will update the plotting\n",
    "# parameters to e.g. have the right font, font size and figure size. The latter is adjusted to\n",
    "# the textwidth of the LaTeX-document in order to avoid re-scaling the plot and changing \n",
    "# thereby the font size again.\n",
    "plt.style.use(style_file_for_plotting)"
   ]
  },
  {
   "cell_type": "markdown",
   "metadata": {},
   "source": [
    "#### Read in the configuration file and the data specified in it"
   ]
  },
  {
   "cell_type": "code",
   "execution_count": null,
   "metadata": {},
   "outputs": [],
   "source": [
    "# Read in the configuration file (nothing needs to be changed here).\n",
    "with open(PATH_configurations+ifile_configurations) as f:\n",
    "    config = yaml.safe_load(f)"
   ]
  },
  {
   "cell_type": "markdown",
   "metadata": {},
   "source": [
    "##### Read in the ground truth"
   ]
  },
  {
   "cell_type": "code",
   "execution_count": null,
   "metadata": {},
   "outputs": [],
   "source": [
    "# Read in the continuous ground truth and remove any unnamed columns as well as the index \n",
    "# column (nothing needs to be changed here).\n",
    "df_ground_truth = read_in_csv_data(config['PATH_ground_truth'], config['ifile_ground_truth'])\n",
    "df_ground_truth = df_ground_truth.loc[:, ~df_ground_truth.columns.str.contains('^Unnamed')]\n",
    "df_ground_truth = df_ground_truth.drop(['index'], axis =1 )"
   ]
  },
  {
   "cell_type": "code",
   "execution_count": null,
   "metadata": {},
   "outputs": [],
   "source": [
    "# Set the name of the columns containing the time and the variables of the ground truth.\n",
    "time_column_name_ground_truth = df_ground_truth.columns[0]\n",
    "var_column_name_ground_truth = df_ground_truth.columns[1]"
   ]
  },
  {
   "cell_type": "code",
   "execution_count": null,
   "metadata": {},
   "outputs": [],
   "source": [
    "# Check that everything is selected correctly (nothing needs to be changed here).\n",
    "print('Continuous ground truth: ')\n",
    "print(var_column_name_ground_truth)\n",
    "print('Name of the column containing the time: ')\n",
    "print(time_column_name_ground_truth)\n",
    "print('Dataframe containing the ground truth: ')\n",
    "df_ground_truth.head()"
   ]
  },
  {
   "cell_type": "markdown",
   "metadata": {},
   "source": [
    "##### Read in the CRPS values of the climatological ensemble"
   ]
  },
  {
   "cell_type": "code",
   "execution_count": null,
   "metadata": {},
   "outputs": [],
   "source": [
    "# Read in the timeseries of the climatological ensemble's CRPS and remove any unnamed columns \n",
    "# as well as the index column (nothing needs to be changed here).\n",
    "df_climatological_ensemble_crps = read_in_csv_data(config['PATH_climatological_ensemble_crps'], config['ifile_climatological_ensemble_crps'])\n",
    "df_climatological_ensemble_crps = df_climatological_ensemble_crps.loc[:, ~df_climatological_ensemble_crps.columns.str.contains('^Unnamed')]\n",
    "df_climatological_ensemble_crps = df_climatological_ensemble_crps.drop(['index'], axis =1 )"
   ]
  },
  {
   "cell_type": "code",
   "execution_count": null,
   "metadata": {},
   "outputs": [],
   "source": [
    "# Set the name of the columns containing the time and the variables of the climatological\n",
    "# ensemble.\n",
    "time_column_name_climatological_ensemble_crps = df_climatological_ensemble_crps.columns[0]\n",
    "var_column_name_climatological_ensemble_crps = df_climatological_ensemble_crps.columns[1]"
   ]
  },
  {
   "cell_type": "code",
   "execution_count": null,
   "metadata": {},
   "outputs": [],
   "source": [
    "# Check that everything is selected correctly (nothing needs to be changed here).\n",
    "print('Name of skill measure of the climatological ensemble: ')\n",
    "print(var_column_name_climatological_ensemble_crps)\n",
    "print('Name of the column containing the time: ')\n",
    "print(time_column_name_climatological_ensemble_crps)\n",
    "print('Dataframe containing the timeseries of the skill measure of the climatological ensemble: ')\n",
    "df_climatological_ensemble_crps.head()"
   ]
  },
  {
   "cell_type": "markdown",
   "metadata": {},
   "source": [
    "##### Read in the CRPS values of the QRF predictions "
   ]
  },
  {
   "cell_type": "code",
   "execution_count": null,
   "metadata": {},
   "outputs": [],
   "source": [
    "# Read in the timeseries of the prediction's CRPS and remove any unnamed columns as well as the\n",
    "# index column (nothing needs to be changed here).\n",
    "df_prediction_crps = read_in_csv_data(config['PATHs_prediction_crps'][0], config['ifiles_prediction_crps'][0])\n",
    "df_prediction_crps = df_prediction_crps.loc[:, ~df_prediction_crps.columns.str.contains('^Unnamed')]\n",
    "df_prediction_crps = df_prediction_crps.drop(['index'], axis =1 )"
   ]
  },
  {
   "cell_type": "code",
   "execution_count": null,
   "metadata": {},
   "outputs": [],
   "source": [
    "# Set the name of the columns containing the time and the variables of the predictions.\n",
    "time_column_name_prediction_crps = df_prediction_crps.columns[0]\n",
    "var_column_name_prediction_crps = df_prediction_crps.columns[1]"
   ]
  },
  {
   "cell_type": "code",
   "execution_count": null,
   "metadata": {},
   "outputs": [],
   "source": [
    "# Check that everything is selected correctly (nothing needs to be changed here).\n",
    "print('Name of skill measure of the prediction: ')\n",
    "print(var_column_name_prediction_crps)\n",
    "print('Name of the column containing the time: ')\n",
    "print(time_column_name_prediction_crps)\n",
    "print('Dataframe containing the timeseries of the skill measure of the predictions: ')\n",
    "df_prediction_crps.head()"
   ]
  },
  {
   "cell_type": "markdown",
   "metadata": {},
   "source": [
    "#### Prepare details for plotting (e.g. a nice representation of the time)\n",
    "From here on, nothing needs to be changed."
   ]
  },
  {
   "cell_type": "code",
   "execution_count": null,
   "metadata": {},
   "outputs": [],
   "source": [
    "# A list with all the start years of the winters in the evaluation period is created. \n",
    "start_years_of_winter = np.arange(config['start_year_of_first_winter'], config['start_year_of_last_winter']+1)"
   ]
  },
  {
   "cell_type": "code",
   "execution_count": null,
   "metadata": {},
   "outputs": [],
   "source": [
    "# The time information used for plotting the timeseries of the skill measures is taken from the \n",
    "# climatological ensemble and converted to a datetime-object.\n",
    "time_timeseries = pd.to_datetime(df_climatological_ensemble_crps[time_column_name_climatological_ensemble_crps])"
   ]
  },
  {
   "cell_type": "code",
   "execution_count": null,
   "metadata": {},
   "outputs": [],
   "source": [
    "# Before plotting, the information about the models which should be shown in the plot's legend\n",
    "# are converted to a nice-looking string by creating the line-breaks set in the configuration \n",
    "# file.\n",
    "list_str_input_info_for_plot_label_prediction_crps = []\n",
    "\n",
    "str_input_info_for_plot_label_benchmark = config['input_data_label_climatological_ensemble']\n",
    "str_input_info_for_plot_label_benchmark = str_input_info_for_plot_label_benchmark.replace('|', '\\n')\n",
    "\n",
    "for i in range(len(config['input_data_labels_prediction_crps'])):\n",
    "    str_input_info_for_plot_label_prediction_crps = config['input_data_labels_prediction_crps'][i]\n",
    "    list_str_input_info_for_plot_label_prediction_crps.append(str_input_info_for_plot_label_prediction_crps.replace('|', '\\n'))"
   ]
  },
  {
   "cell_type": "markdown",
   "metadata": {},
   "source": [
    "#### Preparing the CRPS of the climatological ensemble and the QRF model for plotting"
   ]
  },
  {
   "cell_type": "code",
   "execution_count": null,
   "metadata": {},
   "outputs": [],
   "source": [
    "# The timeseries of the CRPS is separated by winter and saved into lists for the\n",
    "# climatologcal ensemble and a representative QRF model.\n",
    "crps_climatological_ensemble = []\n",
    "crps_representative_qrf_model = []\n",
    "index_representative_qrf_model = config['index_representative_qrf_model']\n",
    "crpss_respective_winter = []\n",
    "crpss_timeseries = []\n",
    "\n",
    "for start_year_of_winter in start_years_of_winter:\n",
    "    \n",
    "    start_winter = datetime(start_year_of_winter, config['start_month_winter'], config['start_day_winter'])\n",
    "    end_winter = datetime(start_year_of_winter+1, config['end_month_winter'], config['end_day_winter'])\n",
    "    df_climatological_ensemble_respective_winter = truncate_data_by_date(df_climatological_ensemble_crps, time_column_name_climatological_ensemble_crps, start_winter.strftime('%Y_%m_%d'), end_winter.strftime('%Y_%m_%d'))     \n",
    "    df_climatological_ensemble_respective_winter_mean = np.nanmean(df_climatological_ensemble_respective_winter[var_column_name_climatological_ensemble_crps])\n",
    "    \n",
    "    crps_climatological_ensemble.append(df_climatological_ensemble_respective_winter[var_column_name_climatological_ensemble_crps])\n",
    "      \n",
    "    time_winter = df_climatological_ensemble_respective_winter[time_column_name_climatological_ensemble_crps]\n",
    "    \n",
    "    for k in range(len(config['ifiles_prediction_crps'])):\n",
    "        df_prediction_crps = read_in_csv_data(config['PATHs_prediction_crps'][k], config['ifiles_prediction_crps'][k])\n",
    "        df_prediction_crps = df_prediction_crps.loc[:, ~df_prediction_crps.columns.str.contains('^Unnamed')]\n",
    "        df_prediction_crps = df_prediction_crps.drop(['index'], axis =1 )\n",
    "        df_prediction_respective_winter = truncate_data_by_date(df_prediction_crps, time_column_name_prediction_crps, start_winter.strftime('%Y_%m_%d'), end_winter.strftime('%Y_%m_%d'))   \n",
    "        if k == index_representative_qrf_model:\n",
    "            crps_representative_qrf_model.append(df_prediction_respective_winter[var_column_name_prediction_crps])\n",
    "        df_prediction_respective_winter_mean = np.nanmean(df_prediction_respective_winter[var_column_name_prediction_crps])\n",
    "        crpss_respective_winter.append(1-(df_prediction_respective_winter_mean/df_climatological_ensemble_respective_winter_mean))\n",
    "    crpss_timeseries.append(crpss_respective_winter)\n",
    "    crpss_respective_winter = []\n"
   ]
  },
  {
   "cell_type": "markdown",
   "metadata": {},
   "source": [
    "#### Visualizing the CRPS difference between the climatological ensemble and the QRF models"
   ]
  },
  {
   "cell_type": "code",
   "execution_count": null,
   "metadata": {},
   "outputs": [],
   "source": [
    "# The difference in CRPS values between the climatological ensemble and the QRF models is \n",
    "# calculated and plotted for each winter separately.\n",
    "color_list=['purple', 'm', 'darkblue', 'cornflowerblue', 'green', 'yellowgreen']\n",
    "\n",
    "for start_year_of_winter in start_years_of_winter:\n",
    "    \n",
    "    start_winter = datetime(start_year_of_winter, config['start_month_winter'], config['start_day_winter'])\n",
    "    end_winter = datetime(start_year_of_winter+1, config['end_month_winter'], config['end_day_winter'])\n",
    "\n",
    "    df_ground_truth_respective_winter = truncate_data_by_date(df_ground_truth, time_column_name_ground_truth, start_winter.strftime('%Y_%m_%d'), end_winter.strftime('%Y_%m_%d'))     \n",
    "    \n",
    "    df_climatological_ensemble_respective_winter = truncate_data_by_date(df_climatological_ensemble_crps, time_column_name_climatological_ensemble_crps, start_winter.strftime('%Y_%m_%d'), end_winter.strftime('%Y_%m_%d'))     \n",
    "    time_winter = df_climatological_ensemble_respective_winter[time_column_name_climatological_ensemble_crps]\n",
    "    \n",
    "    fig, ax = plt.subplots()\n",
    "    ax2 = ax.twinx()\n",
    "    \n",
    "    for k in range(len(config['ifiles_prediction_crps'])):\n",
    "        df_prediction_crps = read_in_csv_data(config['PATHs_prediction_crps'][k], config['ifiles_prediction_crps'][k])\n",
    "        df_prediction_crps = df_prediction_crps.loc[:, ~df_prediction_crps.columns.str.contains('^Unnamed')]\n",
    "        df_prediction_crps = df_prediction_crps.drop(['index'], axis =1 )\n",
    "        df_prediction_respective_winter = truncate_data_by_date(df_prediction_crps, time_column_name_prediction_crps, start_winter.strftime('%Y_%m_%d'), end_winter.strftime('%Y_%m_%d'))   \n",
    "    \n",
    "        difference_timeseries = df_climatological_ensemble_respective_winter[var_column_name_prediction_crps]-df_prediction_respective_winter[var_column_name_climatological_ensemble_crps]  \n",
    "\n",
    "        ax.plot(time_winter, difference_timeseries, linestyle='-', color=color_list[k], alpha=0.5, label=(list_str_input_info_for_plot_label_prediction_crps[k]))\n",
    "    \n",
    "    ax2.plot(time_winter, df_ground_truth_respective_winter[var_column_name_ground_truth], color='k', linestyle='--', label='Ground truth temperature')   \n",
    "    ax2.set_ylim(260, 290) \n",
    "    ax.set_ylim(-4, 4) \n",
    "    ax.axhline(y=0, color='grey', linestyle='-')   \n",
    "    mpl_axes_aligner.align.yaxes(ax, 0, ax2, 273.15, 0.5)\n",
    "    #ax2.legend(bbox_to_anchor=(0, -0.45), loc='upper left') # left out for standalone legend in paper\n",
    "    #ax.legend(bbox_to_anchor=(0, -0.55), loc='upper left')    # left out for standalone legend in paper\n",
    "    plt.xlabel(time_column_name_climatological_ensemble_crps)\n",
    "    plt.setp(ax.get_xticklabels(), ha=\"center\", rotation=45)\n",
    "    ax.set_ylabel(var_column_name_prediction_crps+' Difference in'+config['unit_continuous_ground_truth'])\n",
    "    ax2.set_ylabel(var_column_name_ground_truth+' in '+config['unit_continuous_ground_truth'])\n",
    "    plt.title(str(config['lead_time'])+'d lead', ha='right', x=1)\n",
    "    plt.savefig(config['PATH_plots']+var_column_name_prediction_crps+'_difference_'+config['continuous_ground_truth']+config['qrf_model_names']+'_lead_'+str(config['lead_time'])+'d_'+str(start_year_of_winter)+'_'+str(start_year_of_winter+1)+'.png', bbox_inches='tight')\n",
    "    #plt.show() # not used since the size of the jupyter notebook is really big\n",
    "    plt.close() # only used since the size of the jupyter notebook is really big"
   ]
  },
  {
   "cell_type": "code",
   "execution_count": null,
   "metadata": {},
   "outputs": [],
   "source": [
    "# Creating a standalone legend for the plot visualizing the CRPS difference of the QRF\n",
    "# predictions and the climatological ensemble.\n",
    "first_line = plt.Line2D([], [], color=color_list[0], alpha=0.5, label=list_str_input_info_for_plot_label_prediction_crps[0])\n",
    "second_line = plt.Line2D([], [], color=color_list[1], alpha=0.5, label=list_str_input_info_for_plot_label_prediction_crps[1])\n",
    "third_line = plt.Line2D([], [], color=color_list[2], alpha=0.5, label=list_str_input_info_for_plot_label_prediction_crps[2])\n",
    "fourth_line = plt.Line2D([], [], color=color_list[3], alpha=0.5, label=list_str_input_info_for_plot_label_prediction_crps[3])\n",
    "fifth_line = plt.Line2D([], [], color=color_list[4], alpha=0.5, label=list_str_input_info_for_plot_label_prediction_crps[4])\n",
    "sixth_line = plt.Line2D([], [], color=color_list[5], alpha=0.5, label=list_str_input_info_for_plot_label_prediction_crps[5])\n",
    "\n",
    "black_dashed_line = plt.Line2D([], [], color='k', linestyle='--', label='Ground Truth Temperature (E-OBS)')\n",
    "\n",
    "plt.legend(handles=[first_line, second_line, black_dashed_line, third_line, fourth_line, fifth_line, sixth_line ], ncol=3)\n",
    "plt.axis(False)\n",
    "plt.savefig(config['PATH_plots']+'Standalone_colorbar_for_crps_difference_plot.png', bbox_inches='tight')\n",
    "plt.show()"
   ]
  },
  {
   "cell_type": "markdown",
   "metadata": {},
   "source": [
    "#### Calculating and visualizing the CRPSS of the QRF models in respect to the climatological ensemble"
   ]
  },
  {
   "cell_type": "code",
   "execution_count": null,
   "metadata": {},
   "outputs": [],
   "source": [
    "# The CRPSS is calculated for the QRF models in respect to the climatological ensemble and\n",
    "# plotted winterwise as bar plots.\n",
    "color_list=['purple', 'm', 'darkblue', 'cornflowerblue', 'green', 'yellowgreen']\n",
    "\n",
    "for l in range(len(start_years_of_winter)):\n",
    "    fig,ax = plt.subplots()\n",
    "    crpss_timeseries_current_winter = crpss_timeseries[l]\n",
    "    wintermean_crpss = []\n",
    "    list_str_input_info = []\n",
    "    list_str_number_of_model = []\n",
    "\n",
    "    for n in range(len(config['ifiles_prediction_crps'])):\n",
    "        wintermean_crpss.append(np.sum(np.array(crpss_timeseries_current_winter)[n]))\n",
    "        list_str_input_info.append(list_str_input_info_for_plot_label_prediction_crps[n])\n",
    "        list_str_number_of_model.append(str(n+1))\n",
    "    \n",
    "    plt.axhline(y=0, color='grey', alpha=0.5)\n",
    "    plt.axvline(x=1.5, color='grey',linestyle='--', alpha=0.5)\n",
    "    plt.axvline(x=3.5, color='grey',linestyle='--', alpha=0.5)\n",
    "\n",
    "    plt.bar(np.arange(len(config['ifiles_prediction_crps'])), np.array(wintermean_crpss), color=color_list, alpha=0.8, tick_label=list_str_number_of_model)\n",
    "\n",
    "    plt.ylim(-0.3, 0.3) \n",
    "    plt.setp(ax.xaxis.get_majorticklabels(), ha='center')\n",
    "    plt.ylabel('CRPSS')\n",
    "    plt.title('Winter '+str(start_years_of_winter[l])+'/'+str(start_years_of_winter[l]+1)+', '+str(config['lead_time'])+'d lead', ha='left', x=-0)\n",
    "    plt.savefig(config['PATH_plots']+'CRPSS_'+config['continuous_ground_truth']+'_'+config['qrf_model_names']+'_and_climatological_ensemble_'+'_lead_'+str(config['lead_time'])+'d_'+str(start_years_of_winter[l])+'_'+str(start_years_of_winter[l]+1)+'.png', bbox_inches='tight')\n",
    "    #plt.show() # not used since the size of the jupyter notebook is really big\n",
    "    plt.close() # only used since the size of the jupyter notebook is really big"
   ]
  },
  {
   "cell_type": "code",
   "execution_count": null,
   "metadata": {},
   "outputs": [],
   "source": [
    "# The mean CRPSS values over all winters are plotted for the QRF models with respect to the climatological\n",
    "# ensemble in a bar plot.\n",
    "longterm_crpss = []\n",
    "longterm_std_crpss = []\n",
    "\n",
    "list_str_input_info = []\n",
    "list_str_number_of_model = []\n",
    "color_list=['purple', 'm', 'darkblue', 'cornflowerblue', 'green', 'yellowgreen']\n",
    "\n",
    "for m in range(len(config['ifiles_prediction_crps'])):\n",
    "    longterm_crpss.append(np.sum(np.array(crpss_timeseries)[:,m]))\n",
    "    longterm_std_crpss.append(np.std(np.array(crpss_timeseries)[:,m]))\n",
    "    list_str_input_info.append(list_str_input_info_for_plot_label_prediction_crps[m])\n",
    "    list_str_number_of_model.append(str(m+1))\n",
    "    \n",
    "fig,ax = plt.subplots()\n",
    "plt.axhline(y=0, color='grey', alpha=0.5)\n",
    "plt.axvline(x=1.5, color='grey',linestyle='--', alpha=0.5)\n",
    "plt.axvline(x=3.5, color='grey',linestyle='--', alpha=0.5)\n",
    "\n",
    "plt.bar(np.arange(len(config['ifiles_prediction_crps'])), np.array(longterm_crpss)/len(np.array(crpss_timeseries)[:,m]), yerr=longterm_std_crpss, ecolor='grey', capsize=5, color=color_list, alpha=0.8, tick_label=list_str_number_of_model)\n",
    "\n",
    "plt.ylim(-0.2, 0.2) \n",
    "plt.setp(ax.xaxis.get_majorticklabels(), ha='center')\n",
    "plt.ylabel('CRPSS')\n",
    "ax.set_title(str(config['lead_time'])+'d lead', ha='right', x=1) # Short title for in paper\n",
    "#ax.set_title('Winter '+str(config['start_year_of_first_winter'])+'/'+str(config['start_year_of_first_winter']+1)+' - '+str(config['start_year_of_last_winter'])+'/'+str(config['start_year_of_last_winter']+1)+'\\n'+str(config['lead_time'])+'d lead', ha='left', x=-0)\n",
    "plt.savefig(config['PATH_plots']+'CRPSS_'+config['continuous_ground_truth']+'_'+config['qrf_model_names']+'_and_climatological_ensemble_'+'_lead_'+str(config['lead_time'])+'d_'+str(config['start_year_of_first_winter'])+'_'+str(config['start_year_of_last_winter']+1)+'.png', bbox_inches='tight')\n",
    "plt.show()"
   ]
  },
  {
   "cell_type": "code",
   "execution_count": null,
   "metadata": {},
   "outputs": [],
   "source": [
    "# Creating a compact standalone legend for the bar plot visualizing the CRPSS.\n",
    "first_filling = mpatches.Patch(color=color_list[0], label=list_str_number_of_model[0]+': '+list_str_input_info[0])\n",
    "second_filling = mpatches.Patch(color=color_list[1], label=list_str_number_of_model[1]+': '+list_str_input_info[1])\n",
    "third_filling = mpatches.Patch(color=color_list[2], label=list_str_number_of_model[2]+': '+list_str_input_info[2])\n",
    "fourth_filling = mpatches.Patch(color=color_list[3], label=list_str_number_of_model[3]+': '+list_str_input_info[3])\n",
    "fifth_filling = mpatches.Patch(color=color_list[4], label=list_str_number_of_model[4]+': '+list_str_input_info[4])\n",
    "sixth_filling = mpatches.Patch(color=color_list[5], label=list_str_number_of_model[5]+': '+list_str_input_info[5])\n",
    "\n",
    "plt.legend(handles=[first_filling, second_filling, third_filling, fourth_filling, fifth_filling, sixth_filling ], ncol=1)\n",
    "plt.axis(False)\n",
    "plt.savefig(config['PATH_plots']+'Standalone_legend_for_crpss_bar_plot_half_textwidth_long.png', bbox_inches='tight')\n",
    "plt.show()"
   ]
  },
  {
   "cell_type": "code",
   "execution_count": null,
   "metadata": {},
   "outputs": [],
   "source": [
    "# Creating a compact standalone legend for the bar plot visualizing the CRPSS.\n",
    "first_filling = mpatches.Patch(color=color_list[0], label=list_str_number_of_model[0]+': '+list_str_input_info[0])\n",
    "second_filling = mpatches.Patch(color=color_list[1], label=list_str_number_of_model[1]+': '+list_str_input_info[1])\n",
    "third_filling = mpatches.Patch(color=color_list[2], label=list_str_number_of_model[2]+': '+list_str_input_info[2])\n",
    "fourth_filling = mpatches.Patch(color=color_list[3], label=list_str_number_of_model[3]+': '+list_str_input_info[3])\n",
    "fifth_filling = mpatches.Patch(color=color_list[4], label=list_str_number_of_model[4]+': '+list_str_input_info[4])\n",
    "sixth_filling = mpatches.Patch(color=color_list[5], label=list_str_number_of_model[5]+': '+list_str_input_info[5])\n",
    "\n",
    "plt.legend(handles=[first_filling, second_filling, third_filling, fourth_filling, fifth_filling, sixth_filling ], ncol=3)\n",
    "plt.axis(False)\n",
    "plt.savefig(config['PATH_plots']+'Standalone_legend_for_crpss_bar_plot_whole_textwidth_long.png', bbox_inches='tight')\n",
    "plt.show()"
   ]
  },
  {
   "cell_type": "code",
   "execution_count": null,
   "metadata": {},
   "outputs": [],
   "source": [
    "# End of Program"
   ]
  }
 ],
 "metadata": {
  "kernelspec": {
   "display_name": "Python 3 (ipykernel)",
   "language": "python",
   "name": "python3"
  },
  "language_info": {
   "codemirror_mode": {
    "name": "ipython",
    "version": 3
   },
   "file_extension": ".py",
   "mimetype": "text/x-python",
   "name": "python",
   "nbconvert_exporter": "python",
   "pygments_lexer": "ipython3",
   "version": "3.9.13"
  }
 },
 "nbformat": 4,
 "nbformat_minor": 4
}
