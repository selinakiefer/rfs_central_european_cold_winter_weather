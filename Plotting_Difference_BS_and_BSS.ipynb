{
 "cells": [
  {
   "cell_type": "markdown",
   "metadata": {},
   "source": [
    "# Plotting the BS- Difference of the Climatological Ensemble and the RFC Models as well as the BSS\n",
    "Version 21 December, Selina Kiefer"
   ]
  },
  {
   "cell_type": "markdown",
   "metadata": {},
   "source": [
    "### Input: csv-files\n",
    "continuous timeseries of daily BS values for every model in csv-format (including the climatological ensemble), binary timeseries of cold wave days in csv-format\n",
    "### Output: png-files\n",
    "winterwise plots of BS values in png-format, winterwise plots of BS-difference in png-format as well as winterwise and multi-winter mean bar plots of BSS values in png-format"
   ]
  },
  {
   "cell_type": "markdown",
   "metadata": {},
   "source": [
    "#### Set the paths' to the defined functions, the style sheet for plotting and tthe configuration file and set its name"
   ]
  },
  {
   "cell_type": "code",
   "execution_count": null,
   "metadata": {},
   "outputs": [],
   "source": [
    "# Set the path to the defined functions.\n",
    "PATH_defined_functions = './Defined_Functions/'"
   ]
  },
  {
   "cell_type": "code",
   "execution_count": null,
   "metadata": {},
   "outputs": [],
   "source": [
    "# Set the path and name of the style file which should be used for plotting.\n",
    "style_file_for_plotting = './Style_File_Matplotlib.mplstyle'"
   ]
  },
  {
   "cell_type": "code",
   "execution_count": null,
   "metadata": {},
   "outputs": [],
   "source": [
    "# Set the path and name of the configuration file.\n",
    "PATH_configurations = './Configuration_Files/'\n",
    "ifile_configurations = 'Configurations_Plotting_Difference_BS_and_BSS.yaml'"
   ]
  },
  {
   "cell_type": "markdown",
   "metadata": {},
   "source": [
    "#### Import the necessary python packages and functions\n",
    "Nothing needs to be changed here."
   ]
  },
  {
   "cell_type": "code",
   "execution_count": null,
   "metadata": {},
   "outputs": [],
   "source": [
    "# Import the necessary python packages.\n",
    "import yaml\n",
    "import pandas as pd\n",
    "import numpy as np\n",
    "import matplotlib as mpl\n",
    "import matplotlib.pyplot as plt\n",
    "import matplotlib.dates as mdates\n",
    "import matplotlib.patches as mpatches\n",
    "import mpl_axes_aligner\n",
    "import seaborn as sns\n",
    "from datetime import timedelta"
   ]
  },
  {
   "cell_type": "code",
   "execution_count": null,
   "metadata": {},
   "outputs": [],
   "source": [
    "# Import the necessary defined functions.\n",
    "import sys\n",
    "sys.path.insert(1, PATH_defined_functions)\n",
    "from read_in_csv_data import *\n",
    "from truncate_data_by_date import *"
   ]
  },
  {
   "cell_type": "markdown",
   "metadata": {},
   "source": [
    "#### Read in the style sheet for plotting"
   ]
  },
  {
   "cell_type": "code",
   "execution_count": null,
   "metadata": {},
   "outputs": [],
   "source": [
    "# Load the style sheet to be used by matplotlib for plotting. This will update the plotting\n",
    "# parameters to e.g. have the right font, font size and figure size. The latter is adjusted to\n",
    "# the textwidth of the LaTeX-document in order to avoid re-scaling the plot and changing \n",
    "# thereby the font size again.\n",
    "plt.style.use(style_file_for_plotting)"
   ]
  },
  {
   "cell_type": "markdown",
   "metadata": {},
   "source": [
    "#### Read in the configuration file and the data specified in it"
   ]
  },
  {
   "cell_type": "code",
   "execution_count": null,
   "metadata": {},
   "outputs": [],
   "source": [
    "# Read in the configuration file (nothing needs to be changed here).\n",
    "with open(PATH_configurations+ifile_configurations) as f:\n",
    "    config = yaml.safe_load(f)"
   ]
  },
  {
   "cell_type": "markdown",
   "metadata": {},
   "source": [
    "##### Read in the ground truth"
   ]
  },
  {
   "cell_type": "code",
   "execution_count": null,
   "metadata": {},
   "outputs": [],
   "source": [
    "# Read in the binary ground truth and remove any unnamed columns as well as the index column\n",
    "# (nothing needs to be changed here).\n",
    "df_cold_waves = read_in_csv_data(config['PATH_ground_truth'], config['ifile_ground_truth_cold_waves'])\n",
    "df_cold_waves = df_cold_waves.loc[:, ~df_cold_waves.columns.str.contains('^Unnamed')]\n",
    "df_cold_waves = df_cold_waves.drop(['index'], axis =1 )"
   ]
  },
  {
   "cell_type": "code",
   "execution_count": null,
   "metadata": {},
   "outputs": [],
   "source": [
    "# Set the name of the columns containing the time and the variables of the ground truth.\n",
    "time_column_name_cold_waves = df_cold_waves.columns[0]\n",
    "var_column_name_cold_waves = df_cold_waves.columns[1]"
   ]
  },
  {
   "cell_type": "code",
   "execution_count": null,
   "metadata": {},
   "outputs": [],
   "source": [
    "# Check that everything is selected correctly (nothing needs to be changed here).\n",
    "print('Binary ground truth: ')\n",
    "print(var_column_name_cold_waves)\n",
    "print('Name of the column containing the time: ')\n",
    "print(time_column_name_cold_waves)\n",
    "print('Dataframe containing the ground truth: ')\n",
    "df_cold_waves.head()"
   ]
  },
  {
   "cell_type": "markdown",
   "metadata": {},
   "source": [
    "##### Read in the BS values of the climatological ensemble"
   ]
  },
  {
   "cell_type": "code",
   "execution_count": null,
   "metadata": {},
   "outputs": [],
   "source": [
    "# Read in the timeseries of the climatological ensemble's BS and remove any unnamed columns as\n",
    "# well as the index column (nothing needs to be changed here).\n",
    "df_climatological_ensemble_bs = read_in_csv_data(config['PATH_climatological_ensemble_bs'], config['ifile_climatological_ensemble_bs'])\n",
    "df_climatological_ensemble_bs = df_climatological_ensemble_bs.loc[:, ~df_climatological_ensemble_bs.columns.str.contains('^Unnamed')]\n",
    "df_climatological_ensemble_bs = df_climatological_ensemble_bs.drop(['index'], axis =1 )"
   ]
  },
  {
   "cell_type": "code",
   "execution_count": null,
   "metadata": {},
   "outputs": [],
   "source": [
    "# Set the name of the columns containing the time and the variables of the cold wave predictions\n",
    "# of the climatological ensemble.\n",
    "time_column_name_climatological_ensemble_bs = df_climatological_ensemble_bs.columns[0]\n",
    "var_column_name_climatological_ensemble_bs = df_climatological_ensemble_bs.columns[1]"
   ]
  },
  {
   "cell_type": "code",
   "execution_count": null,
   "metadata": {},
   "outputs": [],
   "source": [
    "# Check that everything is selected correctly (nothing needs to be changed here).\n",
    "print('Name of skill measure of the benchmark model: ')\n",
    "print(var_column_name_climatological_ensemble_bs)\n",
    "print('Name of the column containing the time: ')\n",
    "print(time_column_name_climatological_ensemble_bs)\n",
    "print('Dataframe containing the timeseries of the skill measure of the benchmark model: ')\n",
    "df_climatological_ensemble_bs.head()"
   ]
  },
  {
   "cell_type": "markdown",
   "metadata": {},
   "source": [
    "##### Read in the BS values of the RFC predictions"
   ]
  },
  {
   "cell_type": "code",
   "execution_count": null,
   "metadata": {},
   "outputs": [],
   "source": [
    "# Read in the timeseries of the prediction's rps and remove any unnamed columns as well as the\n",
    "# index column (nothing needs to be changed here).\n",
    "df_prediction_bs = read_in_csv_data(config['PATHs_prediction_bs'][0], config['ifiles_prediction_bs'][0])\n",
    "df_prediction_bs = df_prediction_bs.loc[:, ~df_prediction_bs.columns.str.contains('^Unnamed')]\n",
    "df_prediction_bs = df_prediction_bs.drop(['index'], axis =1 )"
   ]
  },
  {
   "cell_type": "code",
   "execution_count": null,
   "metadata": {},
   "outputs": [],
   "source": [
    "# Set the name of the columns containing the time and the variables of the predictions.\n",
    "time_column_name_prediction_bs = df_prediction_bs.columns[0]\n",
    "var_column_name_prediction_bs = df_prediction_bs.columns[1]"
   ]
  },
  {
   "cell_type": "code",
   "execution_count": null,
   "metadata": {},
   "outputs": [],
   "source": [
    "# Check that everything is selected correctly (nothing needs to be changed here).\n",
    "print('Name of skill measure of the prediction: ')\n",
    "print(var_column_name_prediction_bs)\n",
    "print('Name of the column containing the time: ')\n",
    "print(time_column_name_prediction_bs)\n",
    "print('Dataframe containing the timeseries of the skill measure of the predictions: ')\n",
    "df_prediction_bs.head()"
   ]
  },
  {
   "cell_type": "markdown",
   "metadata": {},
   "source": [
    "#### Prepare details for plotting (e.g. a nice representation of the time)\n",
    "From here on, nothing needs to be changed."
   ]
  },
  {
   "cell_type": "code",
   "execution_count": null,
   "metadata": {},
   "outputs": [],
   "source": [
    "# A list with all the start years of the winters in the evaluation period is created. \n",
    "start_years_of_winter = np.arange(config['start_year_of_first_winter'], config['start_year_of_last_winter']+1)"
   ]
  },
  {
   "cell_type": "code",
   "execution_count": null,
   "metadata": {},
   "outputs": [],
   "source": [
    "# The time information used for plotting the timeseries of the skill measures is taken from the \n",
    "# climatological ensemble and converted to a datetime-object.\n",
    "time_timeseries = pd.to_datetime(df_climatological_ensemble_bs[time_column_name_climatological_ensemble_bs])"
   ]
  },
  {
   "cell_type": "code",
   "execution_count": null,
   "metadata": {},
   "outputs": [],
   "source": [
    "# Before plotting, the information about the models which should be shown in the plot's legend\n",
    "# are converted to a nice-looking string by creating the line-breaks set in the configuration \n",
    "# file.\n",
    "list_str_input_info_for_plot_label_prediction_bs = []\n",
    "\n",
    "str_input_info_for_plot_label_benchmark = config['input_data_label_climatological_ensemble']\n",
    "str_input_info_for_plot_label_benchmark = str_input_info_for_plot_label_benchmark.replace('|', '\\n')\n",
    "\n",
    "for i in range(len(config['input_data_labels_prediction_bs'])):    \n",
    "    str_input_info_for_plot_label_prediction_bs = config['input_data_labels_prediction_bs'][i]\n",
    "    list_str_input_info_for_plot_label_prediction_bs.append(str_input_info_for_plot_label_prediction_bs.replace('|', '\\n'))"
   ]
  },
  {
   "cell_type": "markdown",
   "metadata": {},
   "source": [
    "#### Preparing the BS of the climatological ensemble and the RFC model for plotting"
   ]
  },
  {
   "cell_type": "code",
   "execution_count": null,
   "metadata": {},
   "outputs": [],
   "source": [
    "# Then, the timeseries of the BS is separated by winter and saved into lists for the\n",
    "# climatologcal ensemble and a representative RFC model.\n",
    "bs_climatological_ensemble = []\n",
    "bs_representative_rfc_model = []\n",
    "index_representative_rfc_model =config['index_representative_rfc_model']\n",
    "bss_respective_winter = []\n",
    "bss_timeseries = []\n",
    "\n",
    "for start_year_of_winter in start_years_of_winter:\n",
    "    \n",
    "    start_winter = datetime(start_year_of_winter, config['start_month_winter'], config['start_day_winter'])\n",
    "    end_winter = datetime(start_year_of_winter+1, config['end_month_winter'], config['end_day_winter'])\n",
    "\n",
    "    df_climatological_ensemble_respective_winter = truncate_data_by_date(df_climatological_ensemble_bs, time_column_name_climatological_ensemble_bs, start_winter.strftime('%Y_%m_%d'), end_winter.strftime('%Y_%m_%d'))     \n",
    "    df_climatological_ensemble_respective_winter_mean = np.nanmean(df_climatological_ensemble_respective_winter[var_column_name_climatological_ensemble_bs])\n",
    "    time_winter = df_climatological_ensemble_respective_winter[time_column_name_climatological_ensemble_bs]\n",
    "    \n",
    "    bs_climatological_ensemble.append(df_climatological_ensemble_respective_winter[var_column_name_climatological_ensemble_bs])\n",
    "    \n",
    "    for k in range(len(config['ifiles_prediction_bs'])):\n",
    "        df_prediction_bs = read_in_csv_data(config['PATHs_prediction_bs'][k], config['ifiles_prediction_bs'][k])\n",
    "        df_prediction_bs = df_prediction_bs.loc[:, ~df_prediction_bs.columns.str.contains('^Unnamed')]\n",
    "        df_prediction_bs = df_prediction_bs.drop(['index'], axis =1 )\n",
    "        df_prediction_respective_winter = truncate_data_by_date(df_prediction_bs, time_column_name_prediction_bs, start_winter.strftime('%Y_%m_%d'), end_winter.strftime('%Y_%m_%d'))   \n",
    "        \n",
    "        if k == index_representative_rfc_model:\n",
    "            bs_representative_rfc_model.append(df_prediction_respective_winter[var_column_name_prediction_bs])\n",
    "        df_prediction_respective_winter_mean = np.nanmean(df_prediction_respective_winter[var_column_name_prediction_bs])\n",
    "        bss_respective_winter.append(1-(df_prediction_respective_winter_mean/df_climatological_ensemble_respective_winter_mean))\n",
    "        \n",
    "    bss_timeseries.append(bss_respective_winter)\n",
    "    bss_respective_winter = []\n"
   ]
  },
  {
   "cell_type": "markdown",
   "metadata": {},
   "source": [
    "#### Visualizing the BS difference between the climatological ensemble and the RFC models"
   ]
  },
  {
   "cell_type": "code",
   "execution_count": null,
   "metadata": {},
   "outputs": [],
   "source": [
    "# The difference in BS values between the climatological ensemble and the RFC models is \n",
    "# calculated and plotted.\n",
    "color_list=['purple', 'm', 'darkblue', 'cornflowerblue', 'green', 'yellowgreen']\n",
    "\n",
    "for start_year_of_winter in start_years_of_winter:\n",
    "    \n",
    "    start_winter = datetime(start_year_of_winter, config['start_month_winter'], config['start_day_winter'])\n",
    "    end_winter = datetime(start_year_of_winter+1, config['end_month_winter'], config['end_day_winter'])\n",
    "\n",
    "    df_cold_waves_respective_winter = truncate_data_by_date(df_cold_waves, time_column_name_cold_waves, start_winter.strftime('%Y_%m_%d'), end_winter.strftime('%Y_%m_%d'))     \n",
    "    \n",
    "    df_climatological_ensemble_respective_winter = truncate_data_by_date(df_climatological_ensemble_bs, time_column_name_climatological_ensemble_bs, start_winter.strftime('%Y_%m_%d'), end_winter.strftime('%Y_%m_%d'))     \n",
    "    time_winter = df_climatological_ensemble_respective_winter[time_column_name_climatological_ensemble_bs]\n",
    "    \n",
    "    fig, ax = plt.subplots()\n",
    "    ax2 = ax.twinx()\n",
    "    \n",
    "    for k in range(len(config['ifiles_prediction_bs'])):\n",
    "        df_prediction_bs = read_in_csv_data(config['PATHs_prediction_bs'][k], config['ifiles_prediction_bs'][k])\n",
    "        df_prediction_bs = df_prediction_bs.loc[:, ~df_prediction_bs.columns.str.contains('^Unnamed')]\n",
    "        df_prediction_bs = df_prediction_bs.drop(['index'], axis =1 )\n",
    "        df_prediction_respective_winter = truncate_data_by_date(df_prediction_bs, time_column_name_prediction_bs, start_winter.strftime('%Y_%m_%d'), end_winter.strftime('%Y_%m_%d'))   \n",
    "    \n",
    "        difference_timeseries = df_climatological_ensemble_respective_winter[var_column_name_prediction_bs]-df_prediction_respective_winter[var_column_name_climatological_ensemble_bs]  \n",
    "   \n",
    "        indices_cold_wave_days = np.where(df_cold_waves_respective_winter[var_column_name_cold_waves]==1)\n",
    "        indices_cold_wave_days = indices_cold_wave_days[0]\n",
    "        indices_cold_wave_days = indices_cold_wave_days[0:len(indices_cold_wave_days)-1]\n",
    "        for p in indices_cold_wave_days:\n",
    "            ax2.axvspan(time_winter[p], time_winter[p+1], facecolor='grey', alpha=0.05)\n",
    "\n",
    "        ax.plot(time_winter, difference_timeseries, linestyle='-', color=color_list[k], alpha=0.5, label=(list_str_input_info_for_plot_label_prediction_bs[k])) \n",
    "    \n",
    "    ax.set_ylim(-0.56, 0.56) \n",
    "    ax.axhline(y=0, color='grey', linestyle='-')   \n",
    "    mpl_axes_aligner.align.yaxes(ax, 0, ax2, 0, 0.5)\n",
    "    ax2.tick_params(labelright=False, right=False)\n",
    "    plt.setp(ax.get_xticklabels(), ha=\"center\", rotation=45)\n",
    "    # ax.legend(bbox_to_anchor=(0, -0.15), loc='upper left') # left out for standalone legend in paper\n",
    "    plt.xlabel(time_column_name_climatological_ensemble_bs)\n",
    "    ax.set_ylabel(var_column_name_prediction_bs+' Difference')\n",
    "    plt.title(str(config['lead_time'])+'d lead', ha='left', x=-0)\n",
    "    plt.savefig(config['PATH_plots']+var_column_name_prediction_bs+'_difference_'+config['binary_ground_truth']+'_'+config['rfc_model_names']+'_lead_'+str(config['lead_time'])+'d_'+str(start_year_of_winter)+'_'+str(start_year_of_winter+1)+'.png', bbox_inches='tight')\n",
    "    #plt.show() # not used since the size of the jupyter notebook is really big\n",
    "    plt.close() # only used since the size of the jupyter notebook is really big"
   ]
  },
  {
   "cell_type": "code",
   "execution_count": null,
   "metadata": {},
   "outputs": [],
   "source": [
    "# Creating a standalone legend for the plot visualizing the BS difference of the RFC\n",
    "# predictions and the climatological ensemble.\n",
    "first_line = plt.Line2D([], [], color=color_list[0], alpha=0.5, label=list_str_input_info_for_plot_label_prediction_bs[0])\n",
    "second_line = plt.Line2D([], [], color=color_list[1], alpha=0.5, label=list_str_input_info_for_plot_label_prediction_bs[1])\n",
    "third_line = plt.Line2D([], [], color=color_list[2], alpha=0.5, label=list_str_input_info_for_plot_label_prediction_bs[2])\n",
    "fourth_line = plt.Line2D([], [], color=color_list[3], alpha=0.5, label=list_str_input_info_for_plot_label_prediction_bs[3])\n",
    "fifth_line = plt.Line2D([], [], color=color_list[4], alpha=0.5, label=list_str_input_info_for_plot_label_prediction_bs[4])\n",
    "sixth_line = plt.Line2D([], [], color=color_list[5], alpha=0.5, label=list_str_input_info_for_plot_label_prediction_bs[5])\n",
    "\n",
    "grey_filling = mpatches.Patch(color='grey', alpha=0.2, label='Ground Truth Cold Waves (E-OBS)')\n",
    "\n",
    "plt.legend(handles=[first_line, second_line, grey_filling, third_line, fourth_line, fifth_line, sixth_line ], ncol=3)\n",
    "plt.axis(False)\n",
    "plt.savefig(config['PATH_plots']+'Standalone_colorbar_for_bs_difference_plot.png', bbox_inches='tight')\n",
    "#plt.show()"
   ]
  },
  {
   "cell_type": "markdown",
   "metadata": {},
   "source": [
    "#### Calculating and visualizing the BSS of the RFC models in respect to the climatological ensemble"
   ]
  },
  {
   "cell_type": "code",
   "execution_count": null,
   "metadata": {},
   "outputs": [],
   "source": [
    "# The BSS is calculated for the RFC models in respect to the climatological ensemble and\n",
    "# plotted winterwise as a bar plot.\n",
    "color_list=['purple', 'm', 'darkblue', 'cornflowerblue', 'green', 'yellowgreen']\n",
    "\n",
    "for l in range(len(start_years_of_winter)):\n",
    "    fig,ax = plt.subplots()\n",
    "    bss_timeseries_current_winter = bss_timeseries[l]\n",
    "    wintermean_bss = []\n",
    "    list_str_input_info = []\n",
    "    list_str_number_of_model = []\n",
    "\n",
    "    for n in range(len(config['ifiles_prediction_bs'])):\n",
    "        wintermean_bss.append(np.sum(np.array(bss_timeseries_current_winter)[n]))\n",
    "        list_str_input_info.append(list_str_input_info_for_plot_label_prediction_bs[n])\n",
    "        list_str_number_of_model.append(str(n+1))\n",
    "    \n",
    "    plt.axhline(y=0, color='grey', alpha=0.5)\n",
    "    plt.axvline(x=1.5, color='grey',linestyle='--', alpha=0.5)\n",
    "    plt.axvline(x=3.5, color='grey',linestyle='--', alpha=0.5)\n",
    "\n",
    "    plt.bar(np.arange(len(config['ifiles_prediction_bs'])), np.array(wintermean_bss), color=color_list, alpha=0.8, tick_label=list_str_number_of_model)\n",
    "\n",
    "    plt.ylim(-0.75, 0.35) \n",
    "    plt.setp(ax.xaxis.get_majorticklabels(), ha='center')\n",
    "    plt.ylabel('BSS')\n",
    "    plt.title('Winter '+str(start_years_of_winter[l])+'/'+str(start_years_of_winter[l]+1)+', '+str(config['lead_time'])+'d lead', ha='left', x=-0)\n",
    "    plt.savefig(config['PATH_plots']+'BSS_'+config['binary_ground_truth']+'_'+config['rfc_model_names']+'_and_climatological_ensemble_'+'_lead_'+str(config['lead_time'])+'d_'+str(start_years_of_winter[l])+'_'+str(start_years_of_winter[l]+1)+'.png', bbox_inches='tight')\n",
    "    #plt.show() # not used since the size of the jupyter notebook is really big\n",
    "    plt.close() # only used since the size of the jupyter notebook is really big"
   ]
  },
  {
   "cell_type": "code",
   "execution_count": null,
   "metadata": {},
   "outputs": [],
   "source": [
    "# The mean BSS values over all winters are plotted for the RFC models with respect to the climatological\n",
    "# ensemble in a bar plot.\n",
    "fig,ax = plt.subplots()\n",
    "\n",
    "longterm_bss = []\n",
    "longterm_std_bss = []\n",
    "\n",
    "list_str_input_info = []\n",
    "list_str_number_of_model = []\n",
    "color_list=['purple', 'm', 'darkblue', 'cornflowerblue', 'green', 'yellowgreen']\n",
    "\n",
    "for n in range(len(config['ifiles_prediction_bs'])):\n",
    "    longterm_bss.append(np.sum(np.array(bss_timeseries)[:,n]))\n",
    "    longterm_std_bss.append(np.std(np.array(bss_timeseries)[:,n])) \n",
    "    list_str_input_info.append(list_str_input_info_for_plot_label_prediction_bs[n])\n",
    "    list_str_number_of_model.append(str(n+1))\n",
    "    \n",
    "plt.axhline(y=0, color='grey', alpha=0.5)\n",
    "plt.axvline(x=1.5, color='grey',linestyle='--', alpha=0.5)\n",
    "plt.axvline(x=3.5, color='grey',linestyle='--', alpha=0.5)\n",
    "\n",
    "plt.bar(np.arange(len(config['ifiles_prediction_bs'])), np.array(longterm_bss)/len(np.array(bss_timeseries)[:,n]), yerr=longterm_std_bss, ecolor='grey', capsize=5, color=color_list, alpha=0.8, tick_label=list_str_number_of_model)\n",
    "\n",
    "plt.ylim(-0.35, 0.35) \n",
    "plt.setp(ax.xaxis.get_majorticklabels(), ha='center')\n",
    "plt.ylabel('BSS')\n",
    "ax.set_title(str(config['lead_time'])+'d lead', ha='right', x=1) # short title for paper\n",
    "#ax.set_title('Winter '+str(config['start_year_of_first_winter'])+'/'+str(config['start_year_of_first_winter']+1)+' - '+str(config['start_year_of_last_winter'])+'/'+str(config['start_year_of_last_winter']+1)+'\\n'+str(config['lead_time'])+'d lead', ha='left', x=-0)\n",
    "plt.savefig(config['PATH_plots']+'BSS_'+config['binary_ground_truth']+'_'+config['rfc_model_names']+'_and_climatological_ensemble_'+'_lead_'+str(config['lead_time'])+'d_'+str(config['start_year_of_first_winter'])+'_'+str(config['start_year_of_last_winter']+1)+'.png', bbox_inches='tight')\n",
    "#plt.show()"
   ]
  },
  {
   "cell_type": "code",
   "execution_count": null,
   "metadata": {},
   "outputs": [],
   "source": [
    "# Creating a standalone legend for the bar plot visualizing the BS.\n",
    "first_filling = mpatches.Patch(color=color_list[0], label=list_str_number_of_model[0]+': '+list_str_input_info[0])\n",
    "second_filling = mpatches.Patch(color=color_list[1], label=list_str_number_of_model[1]+': '+list_str_input_info[1])\n",
    "third_filling = mpatches.Patch(color=color_list[2], label=list_str_number_of_model[2]+': '+list_str_input_info[2])\n",
    "fourth_filling = mpatches.Patch(color=color_list[3], label=list_str_number_of_model[3]+': '+list_str_input_info[3])\n",
    "fifth_filling = mpatches.Patch(color=color_list[4], label=list_str_number_of_model[4]+': '+list_str_input_info[4])\n",
    "sixth_filling = mpatches.Patch(color=color_list[5], label=list_str_number_of_model[5]+': '+list_str_input_info[5])\n",
    "\n",
    "plt.legend(handles=[first_filling, second_filling, third_filling, fourth_filling, fifth_filling, sixth_filling ], ncol=1)\n",
    "plt.axis(False)\n",
    "plt.savefig(config['PATH_plots']+'Standalone_legend_for_bs_bar_plot_half_textwidth_long.png', bbox_inches='tight')\n",
    "#plt.show()"
   ]
  },
  {
   "cell_type": "code",
   "execution_count": null,
   "metadata": {},
   "outputs": [],
   "source": [
    "# Creating a standalone legend for the bar plot visualizing the BS.\n",
    "first_filling = mpatches.Patch(color=color_list[0], label=list_str_number_of_model[0]+': '+list_str_input_info[0])\n",
    "second_filling = mpatches.Patch(color=color_list[1], label=list_str_number_of_model[1]+': '+list_str_input_info[1])\n",
    "third_filling = mpatches.Patch(color=color_list[2], label=list_str_number_of_model[2]+': '+list_str_input_info[2])\n",
    "fourth_filling = mpatches.Patch(color=color_list[3], label=list_str_number_of_model[3]+': '+list_str_input_info[3])\n",
    "fifth_filling = mpatches.Patch(color=color_list[4], label=list_str_number_of_model[4]+': '+list_str_input_info[4])\n",
    "sixth_filling = mpatches.Patch(color=color_list[5], label=list_str_number_of_model[5]+': '+list_str_input_info[5])\n",
    "\n",
    "plt.legend(handles=[first_filling, second_filling, third_filling, fourth_filling, fifth_filling, sixth_filling ], ncol=3)\n",
    "plt.axis(False)\n",
    "plt.savefig(config['PATH_plots']+'Standalone_legend_for_bs_bar_plot_textwidth_long.png', bbox_inches='tight')\n",
    "#plt.show()"
   ]
  },
  {
   "cell_type": "code",
   "execution_count": null,
   "metadata": {},
   "outputs": [],
   "source": [
    "# End of Program"
   ]
  }
 ],
 "metadata": {
  "kernelspec": {
   "display_name": "Python 3 (ipykernel)",
   "language": "python",
   "name": "python3"
  },
  "language_info": {
   "codemirror_mode": {
    "name": "ipython",
    "version": 3
   },
   "file_extension": ".py",
   "mimetype": "text/x-python",
   "name": "python",
   "nbconvert_exporter": "python",
   "pygments_lexer": "ipython3",
   "version": "3.9.13"
  }
 },
 "nbformat": 4,
 "nbformat_minor": 4
}
